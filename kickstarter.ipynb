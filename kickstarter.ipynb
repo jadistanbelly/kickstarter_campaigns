{
 "cells": [
  {
   "cell_type": "markdown",
   "metadata": {},
   "source": [
    "# Table of Contents:\n",
    "* [Introduction](#intro)\n",
    "    * [Data](#data)\n",
    "        *  [Analytical Process](#ap)\n",
    "            * [Successful vs. Failed](#svf)\n",
    "            * [Defining a Successful Campaign](#dsc)\n",
    "    * [Final Recommendations](#finalrec)"
   ]
  },
  {
   "cell_type": "markdown",
   "metadata": {},
   "source": [
    "# Introduction <a class=\"anchor\" id=\"intro\"></a>"
   ]
  },
  {
   "cell_type": "markdown",
   "metadata": {},
   "source": [
    "Nowadays there are various methods in receiving additional funding/capital for company projects, one being Kickstarter. In short, Kickstarter is an online funding platform allowing anyone to back up projects from all over the world at any given time. It is important to understand what makes a campaign succeed on Kickstarter and so, data analysis has been conducted to aid in the decision-making process of future campaigns."
   ]
  },
  {
   "cell_type": "markdown",
   "metadata": {},
   "source": [
    "## Data <a class=\"anchor\" id=\"data\"></a>"
   ]
  },
  {
   "cell_type": "markdown",
   "metadata": {},
   "source": [
    "The data used in analysis is composed of 1500 Kickstarter campaigns with several attributes such as campaign goal, money raised, campaign launch date, campaign end date, number of backers, and if the campaign was successful. Below is a sample of the first row in the campaigns table with the number of campaigns as the last column."
   ]
  },
  {
   "cell_type": "code",
   "execution_count": 6,
   "metadata": {},
   "outputs": [
    {
     "name": "stdout",
     "output_type": "stream",
     "text": [
      "The sql extension is already loaded. To reload it, use:\n",
      "  %reload_ext sql\n"
     ]
    }
   ],
   "source": [
    "# Load SQLlite & DB file \n",
    "%load_ext sql\n",
    "con = \"sqlite:////Users/jadel/Desktop/kickstarter/kickstarter.db\"\n",
    "# Or you can connect directly like this:\n",
    "# %sql \"sqlite:////Users/jadel/Desktop/kickstarter/kickstarter.db\""
   ]
  },
  {
   "cell_type": "code",
   "execution_count": 7,
   "metadata": {},
   "outputs": [
    {
     "name": "stdout",
     "output_type": "stream",
     "text": [
      "Done.\n"
     ]
    },
    {
     "data": {
      "text/html": [
       "<table>\n",
       "    <tr>\n",
       "        <th>id</th>\n",
       "        <th>name</th>\n",
       "        <th>sub_category_id</th>\n",
       "        <th>country_id</th>\n",
       "        <th>currency_id</th>\n",
       "        <th>launched</th>\n",
       "        <th>deadline</th>\n",
       "        <th>goal</th>\n",
       "        <th>pledged</th>\n",
       "        <th>backers</th>\n",
       "        <th>outcome</th>\n",
       "        <th>COUNT(id)</th>\n",
       "    </tr>\n",
       "    <tr>\n",
       "        <td>1</td>\n",
       "        <td>Ragdolls</td>\n",
       "        <td>23</td>\n",
       "        <td>2</td>\n",
       "        <td>2</td>\n",
       "        <td>2013-04-25 00:00:00</td>\n",
       "        <td>2013-05-25 00:00:00</td>\n",
       "        <td>15000</td>\n",
       "        <td>20</td>\n",
       "        <td>3</td>\n",
       "        <td>failed</td>\n",
       "        <td>15000</td>\n",
       "    </tr>\n",
       "</table>"
      ],
      "text/plain": [
       "[(1, 'Ragdolls', 23, 2, 2, '2013-04-25 00:00:00', '2013-05-25 00:00:00', 15000, 20, 3, 'failed', 15000)]"
      ]
     },
     "execution_count": 7,
     "metadata": {},
     "output_type": "execute_result"
    }
   ],
   "source": [
    "%%sql $con\n",
    "\n",
    "SELECT *, COUNT(id)\n",
    "FROM campaign"
   ]
  },
  {
   "cell_type": "markdown",
   "metadata": {},
   "source": [
    "### Analytical Process <a class=\"anchor\" id=\"ap\"></a>"
   ]
  },
  {
   "cell_type": "markdown",
   "metadata": {},
   "source": [
    "#### Successful vs Failed <a class=\"anchor\" id=\"svf\"></a>"
   ]
  },
  {
   "cell_type": "markdown",
   "metadata": {},
   "source": [
    "The first step in the analytical process is to find the main drivers between a failed and successful campaign. We start with taking a look at the \"Average Goal Price USD\" and the \"Average Pledged Price USD\" on both outcomes (Failed vs Successful) to get an idea if there is a significant difference between the two."
   ]
  },
  {
   "cell_type": "code",
   "execution_count": 8,
   "metadata": {},
   "outputs": [
    {
     "name": "stdout",
     "output_type": "stream",
     "text": [
      "Done.\n"
     ]
    },
    {
     "data": {
      "text/html": [
       "<table>\n",
       "    <tr>\n",
       "        <th>Average_Goal_Price</th>\n",
       "        <th>Average_Pledged_Price</th>\n",
       "        <th>outcome</th>\n",
       "    </tr>\n",
       "    <tr>\n",
       "        <td>9976.0</td>\n",
       "        <td>23117.0</td>\n",
       "        <td>successful</td>\n",
       "    </tr>\n",
       "    <tr>\n",
       "        <td>101653.0</td>\n",
       "        <td>1528.0</td>\n",
       "        <td>failed</td>\n",
       "    </tr>\n",
       "</table>"
      ],
      "text/plain": [
       "[(9976.0, 23117.0, 'successful'), (101653.0, 1528.0, 'failed')]"
      ]
     },
     "execution_count": 8,
     "metadata": {},
     "output_type": "execute_result"
    }
   ],
   "source": [
    "%%sql $con         /*Failed Campaigns*/\n",
    "\n",
    "SELECT ROUND(AVG(goal)) AS Average_Goal_Price, \n",
    "\t   ROUND(AVG(pledged)) AS Average_Pledged_Price,\n",
    "       outcome\n",
    "FROM campaign\n",
    "WHERE currency_id = 2 AND outcome = \"failed\" \n",
    "\n",
    "UNION \n",
    "\n",
    "              /*Successful Campaigns*/\n",
    "\n",
    "SELECT ROUND(AVG(goal)) AS Average_Goal_Price,\n",
    "\t   ROUND(AVG(pledged)) AS Average_Pledged_Price, \n",
    "       outcome\n",
    "FROM campaign\n",
    "WHERE currency_id = 2 AND outcome = \"successful\"; \n",
    "\n"
   ]
  },
  {
   "cell_type": "markdown",
   "metadata": {},
   "source": [
    "As seen above, there is a significant difference between successful and unsuccessful campaign goals. On average, failed campaigns seem to request for too much money, <span>$</span>101653, and in return receive around 1.5% back, $1528. Meanwhile, successful campaigns on average ask for a much lower amount, $9976, and in response receive over double their goal, $23117."
   ]
  },
  {
   "cell_type": "markdown",
   "metadata": {},
   "source": [
    "What this shows is that very large campaign goals are not attainable and likely are fending off potential backers. A large part of Kickstarter is the concept of supporting creative ideas and a backer can feel his/her impact on a campaign when the goal is low enough for a single donation to make a visible difference. To further clarify, if a backer has $500 to support any campaign and has a choice between a $100K or a $10K campaign goal the backer knows that its $500 will make a larger impact on the lower end goal. In percentages, it’s a choice between a 5% or 0.5% impact. Please see below for a visualization summary"
   ]
  },
  {
   "cell_type": "markdown",
   "metadata": {},
   "source": [
    "![Alt text](Images/average_campaign_funding.png)"
   ]
  },
  {
   "cell_type": "markdown",
   "metadata": {},
   "source": [
    "Additionally, there is a very slight increase in money raised for longer campaigns, this can be seen visually below where the trend line minorly increases as a campaign is on for longer. This suggests that campaigns have a life cycle and at some point, are considered “old news” as other newer campaigns take the spotlight on Kickstarter. Overall, extending a campaign does not seem to hurt nor benefit a goal significantly but rather keep it stagnant."
   ]
  },
  {
   "cell_type": "code",
   "execution_count": 9,
   "metadata": {},
   "outputs": [
    {
     "name": "stdout",
     "output_type": "stream",
     "text": [
      "Done.\n"
     ]
    },
    {
     "data": {
      "text/html": [
       "<table>\n",
       "    <tr>\n",
       "        <th>money_raised</th>\n",
       "        <th>duration_in_days</th>\n",
       "    </tr>\n",
       "    <tr>\n",
       "        <td>5408917.0</td>\n",
       "        <td>35.0</td>\n",
       "    </tr>\n",
       "    <tr>\n",
       "        <td>3999796.0</td>\n",
       "        <td>28.0</td>\n",
       "    </tr>\n",
       "    <tr>\n",
       "        <td>3105473.0</td>\n",
       "        <td>30.0</td>\n",
       "    </tr>\n",
       "    <tr>\n",
       "        <td>2278255.0</td>\n",
       "        <td>30.0</td>\n",
       "    </tr>\n",
       "    <tr>\n",
       "        <td>1924018.0</td>\n",
       "        <td>30.0</td>\n",
       "    </tr>\n",
       "    <tr>\n",
       "        <td>1842142.0</td>\n",
       "        <td>43.0</td>\n",
       "    </tr>\n",
       "    <tr>\n",
       "        <td>1652247.0</td>\n",
       "        <td>40.0</td>\n",
       "    </tr>\n",
       "    <tr>\n",
       "        <td>1546270.0</td>\n",
       "        <td>30.0</td>\n",
       "    </tr>\n",
       "    <tr>\n",
       "        <td>1341305.0</td>\n",
       "        <td>33.0</td>\n",
       "    </tr>\n",
       "    <tr>\n",
       "        <td>1241615.0</td>\n",
       "        <td>45.0</td>\n",
       "    </tr>\n",
       "</table>"
      ],
      "text/plain": [
       "[(5408917.0, 35.0),\n",
       " (3999796.0, 28.0),\n",
       " (3105473.0, 30.0),\n",
       " (2278255.0, 30.0),\n",
       " (1924018.0, 30.0),\n",
       " (1842142.0, 43.0),\n",
       " (1652247.0, 40.0),\n",
       " (1546270.0, 30.0),\n",
       " (1341305.0, 33.0),\n",
       " (1241615.0, 45.0)]"
      ]
     },
     "execution_count": 9,
     "metadata": {},
     "output_type": "execute_result"
    }
   ],
   "source": [
    "%%sql $con\t\n",
    "\t\t\t\t/* Pledges vs. Duration in Days */\n",
    "SELECT ROUND(pledged) AS money_raised, \n",
    "\t\tJULIANDAY(deadline) - JULIANDAY(launched) AS duration_in_days\n",
    "FROM campaign\n",
    "ORDER BY pledged desc\n",
    "LIMIT 10;"
   ]
  },
  {
   "cell_type": "markdown",
   "metadata": {},
   "source": [
    "![Alt text](Images/trend_in_money_raising.png)"
   ]
  },
  {
   "cell_type": "markdown",
   "metadata": {},
   "source": [
    "#### Defining a Successful Campaign <a class=\"anchor\" id=\"dsc\"></a>"
   ]
  },
  {
   "cell_type": "markdown",
   "metadata": {},
   "source": [
    "Once campaigns can be differentiated based on their outcome, it is important to see the characteristics of just successful campaigns to determine what defines a working campaign. "
   ]
  },
  {
   "cell_type": "markdown",
   "metadata": {},
   "source": [
    "First, looking at the number of backers in a campaign can signify what is popular and trendy. "
   ]
  },
  {
   "cell_type": "code",
   "execution_count": 10,
   "metadata": {},
   "outputs": [
    {
     "name": "stdout",
     "output_type": "stream",
     "text": [
      "Done.\n"
     ]
    },
    {
     "data": {
      "text/html": [
       "<table>\n",
       "    <tr>\n",
       "        <th>backers</th>\n",
       "        <th>Category</th>\n",
       "    </tr>\n",
       "    <tr>\n",
       "        <td>411671</td>\n",
       "        <td>Games</td>\n",
       "    </tr>\n",
       "    <tr>\n",
       "        <td>329751</td>\n",
       "        <td>Technology</td>\n",
       "    </tr>\n",
       "    <tr>\n",
       "        <td>262245</td>\n",
       "        <td>Design</td>\n",
       "    </tr>\n",
       "</table>"
      ],
      "text/plain": [
       "[(411671, 'Games'), (329751, 'Technology'), (262245, 'Design')]"
      ]
     },
     "execution_count": 10,
     "metadata": {},
     "output_type": "execute_result"
    }
   ],
   "source": [
    "%%sql $con\n",
    "                /* Top Backed Categories*/\n",
    "SELECT SUM(campaign.backers) AS backers, category.name AS Category\n",
    "FROM campaign\n",
    "JOIN sub_category\n",
    "ON campaign.sub_category_id = sub_category.id\n",
    "JOIN category\n",
    "ON sub_category.category_id = category.id\n",
    "GROUP BY category_id\n",
    "ORDER BY backers desc\n",
    "LIMIT 3"
   ]
  },
  {
   "cell_type": "code",
   "execution_count": 11,
   "metadata": {},
   "outputs": [
    {
     "name": "stdout",
     "output_type": "stream",
     "text": [
      "Done.\n"
     ]
    },
    {
     "data": {
      "text/html": [
       "<table>\n",
       "    <tr>\n",
       "        <th>backers</th>\n",
       "        <th>Subcategory</th>\n",
       "    </tr>\n",
       "    <tr>\n",
       "        <td>247120</td>\n",
       "        <td>Tabletop Games</td>\n",
       "    </tr>\n",
       "    <tr>\n",
       "        <td>221931</td>\n",
       "        <td>Product Design</td>\n",
       "    </tr>\n",
       "    <tr>\n",
       "        <td>141052</td>\n",
       "        <td>Video Games</td>\n",
       "    </tr>\n",
       "</table>"
      ],
      "text/plain": [
       "[(247120, 'Tabletop Games'),\n",
       " (221931, 'Product Design'),\n",
       " (141052, 'Video Games')]"
      ]
     },
     "execution_count": 11,
     "metadata": {},
     "output_type": "execute_result"
    }
   ],
   "source": [
    "%%sql $con\n",
    "                    /* Top Backed Subcategories*/\n",
    "SELECT SUM(campaign.backers) AS backers, sub_category.name AS Subcategory \n",
    "FROM campaign\n",
    "JOIN sub_category\n",
    "ON campaign.sub_category_id = sub_category.id\n",
    "JOIN category\n",
    "ON sub_category.category_id = category.id\n",
    "GROUP BY sub_category_id\n",
    "ORDER BY backers desc\n",
    "LIMIT 3"
   ]
  },
  {
   "cell_type": "markdown",
   "metadata": {},
   "source": [
    "The most backed campaign categories are Games, Technology, Design. Additionally, the most backed subcategories include Tabletop Games, Product Design, Video Games."
   ]
  },
  {
   "cell_type": "markdown",
   "metadata": {},
   "source": [
    "Having a business fall under the top 3 most backed sub/categories may come with barriers of entry and higher competition but also includes the potential of virality. A bar graph representation of most backed categories and subcategories is shown below"
   ]
  },
  {
   "cell_type": "markdown",
   "metadata": {},
   "source": [
    "![Alt text](Images/campaign_categories_ranked_by_backers.png) \n",
    "![Alt text](Images/campaign_subcategories_ranked_by_backers.png)\n",
    "\n"
   ]
  },
  {
   "cell_type": "markdown",
   "metadata": {},
   "source": [
    "Second, the variable \"pledged\" indicates the amount of money raised by a campaign. This is an important trait to define successful campaigns with. "
   ]
  },
  {
   "cell_type": "code",
   "execution_count": 12,
   "metadata": {},
   "outputs": [
    {
     "name": "stdout",
     "output_type": "stream",
     "text": [
      "Done.\n"
     ]
    },
    {
     "data": {
      "text/html": [
       "<table>\n",
       "    <tr>\n",
       "        <th>pledged</th>\n",
       "        <th>Category</th>\n",
       "    </tr>\n",
       "    <tr>\n",
       "        <td>28035408.0</td>\n",
       "        <td>Technology</td>\n",
       "    </tr>\n",
       "    <tr>\n",
       "        <td>27792570.0</td>\n",
       "        <td>Games</td>\n",
       "    </tr>\n",
       "    <tr>\n",
       "        <td>24006972.0</td>\n",
       "        <td>Design</td>\n",
       "    </tr>\n",
       "</table>"
      ],
      "text/plain": [
       "[(28035408.0, 'Technology'), (27792570.0, 'Games'), (24006972.0, 'Design')]"
      ]
     },
     "execution_count": 12,
     "metadata": {},
     "output_type": "execute_result"
    }
   ],
   "source": [
    "%%sql $con\n",
    "                        /* Top Pledged Categories*/\n",
    "SELECT ROUND(SUM(campaign.pledged)) AS pledged, category.name AS Category\n",
    "FROM campaign\n",
    "JOIN sub_category\n",
    "ON campaign.sub_category_id = sub_category.id\n",
    "JOIN category\n",
    "ON sub_category.category_id = category.id\n",
    "GROUP BY category.id\n",
    "ORDER BY pledged desc\n",
    "LIMIT 3"
   ]
  },
  {
   "cell_type": "code",
   "execution_count": 13,
   "metadata": {},
   "outputs": [
    {
     "name": "stdout",
     "output_type": "stream",
     "text": [
      "Done.\n"
     ]
    },
    {
     "data": {
      "text/html": [
       "<table>\n",
       "    <tr>\n",
       "        <th>pledged</th>\n",
       "        <th>Subcategory</th>\n",
       "    </tr>\n",
       "    <tr>\n",
       "        <td>21111582.0</td>\n",
       "        <td>Product Design</td>\n",
       "    </tr>\n",
       "    <tr>\n",
       "        <td>18827697.0</td>\n",
       "        <td>Tabletop Games</td>\n",
       "    </tr>\n",
       "    <tr>\n",
       "        <td>7811751.0</td>\n",
       "        <td>Video Games</td>\n",
       "    </tr>\n",
       "</table>"
      ],
      "text/plain": [
       "[(21111582.0, 'Product Design'),\n",
       " (18827697.0, 'Tabletop Games'),\n",
       " (7811751.0, 'Video Games')]"
      ]
     },
     "execution_count": 13,
     "metadata": {},
     "output_type": "execute_result"
    }
   ],
   "source": [
    "%%sql $con\n",
    "                            /* Top Pledged Subcategories*/\n",
    "SELECT ROUND(SUM(campaign.pledged)) AS pledged, sub_category.name AS Subcategory\n",
    "FROM campaign\n",
    "JOIN sub_category\n",
    "ON campaign.sub_category_id = sub_category.id\n",
    "JOIN category\n",
    "ON sub_category.category_id = category.id\n",
    "GROUP BY sub_category_id\n",
    "ORDER BY pledged desc\n",
    "LIMIT 3"
   ]
  },
  {
   "cell_type": "markdown",
   "metadata": {},
   "source": [
    "One of the highest monies earning subcategories include Tabletop Games. In fact, the campaign Gloomhaven Second Printing has raised around 4 million dollars in approximately a 19-million-dollar subcategory, that is around 21% of all the money raised in the Tabletop Games subcategory! Gloomhaven’s success is proof that board game companies can utilize their popularity on Kickstarter’s platform to achieve over and above their campaign goal. More detail on campaign rankings based on money raised can be found in the visualization below."
   ]
  },
  {
   "cell_type": "code",
   "execution_count": 14,
   "metadata": {},
   "outputs": [
    {
     "name": "stdout",
     "output_type": "stream",
     "text": [
      "Done.\n"
     ]
    },
    {
     "data": {
      "text/html": [
       "<table>\n",
       "    <tr>\n",
       "        <th>name</th>\n",
       "        <th>money_raised</th>\n",
       "        <th>backers</th>\n",
       "        <th>total_money_raised</th>\n",
       "        <th>ratio_money_raised</th>\n",
       "    </tr>\n",
       "    <tr>\n",
       "        <td>Gloomhaven (Second Printing)</td>\n",
       "        <td>3999796.0</td>\n",
       "        <td>40642</td>\n",
       "        <td>18827697.0</td>\n",
       "        <td>0.21244212714916752</td>\n",
       "    </tr>\n",
       "</table>"
      ],
      "text/plain": [
       "[('Gloomhaven (Second Printing)', 3999796.0, 40642, 18827697.0, 0.21244212714916752)]"
      ]
     },
     "execution_count": 14,
     "metadata": {},
     "output_type": "execute_result"
    }
   ],
   "source": [
    "%%sql $con\n",
    "                        /* Top Board Game Company */\n",
    "SELECT name, ROUND(pledged) AS money_raised, backers, \n",
    "\t\t(SELECT ROUND(SUM(pledged))\n",
    "\t\t\tFROM campaign\n",
    "\t\t\tWHERE sub_category_id = 14\n",
    "\t\t\tORDER BY pledged desc) AS total_money_raised,\n",
    "\t\tROUND(pledged)/(SELECT ROUND(SUM(pledged))\n",
    "\t\t\tFROM campaign\n",
    "\t\t\tWHERE sub_category_id = 14\n",
    "\t\t\tORDER BY pledged desc) AS ratio_money_raised\n",
    "FROM campaign\n",
    "WHERE sub_category_id = 14\n",
    "ORDER BY pledged desc\n",
    "LIMIT 1"
   ]
  },
  {
   "cell_type": "markdown",
   "metadata": {},
   "source": [
    "![Alt text](Images/campaign_categories_ranked_by_money_raised.png)\n",
    "![Alt text](Images/campaign_subcategories_ranked_by_money_raised.png)"
   ]
  },
  {
   "cell_type": "markdown",
   "metadata": {},
   "source": [
    "Finally, categorizing money raised and backers by country can show target locations to attract as many backers and money as possible. Top locations in this regard fall to US, Great Britain, and Canada. For more details and a map visualization see below."
   ]
  },
  {
   "cell_type": "code",
   "execution_count": 15,
   "metadata": {},
   "outputs": [
    {
     "name": "stdout",
     "output_type": "stream",
     "text": [
      "Done.\n"
     ]
    },
    {
     "data": {
      "text/html": [
       "<table>\n",
       "    <tr>\n",
       "        <th>money_raised</th>\n",
       "        <th>country</th>\n",
       "    </tr>\n",
       "    <tr>\n",
       "        <td>100971994.0</td>\n",
       "        <td>US</td>\n",
       "    </tr>\n",
       "    <tr>\n",
       "        <td>8514817.0</td>\n",
       "        <td>GB</td>\n",
       "    </tr>\n",
       "    <tr>\n",
       "        <td>1804147.0</td>\n",
       "        <td>CA</td>\n",
       "    </tr>\n",
       "</table>"
      ],
      "text/plain": [
       "[(100971994.0, 'US'), (8514817.0, 'GB'), (1804147.0, 'CA')]"
      ]
     },
     "execution_count": 15,
     "metadata": {},
     "output_type": "execute_result"
    }
   ],
   "source": [
    "%%sql $con\n",
    "                    /* Top 3 Pledged Countries*/\n",
    "SELECT ROUND(SUM(campaign.pledged)) AS money_raised, country.name AS country\n",
    "FROM campaign\n",
    "JOIN country\n",
    "ON campaign.country_id = country.id\n",
    "WHERE outcome = \"successful\"\n",
    "GROUP BY country\n",
    "ORDER BY money_raised desc\n",
    "LIMIT 3"
   ]
  },
  {
   "cell_type": "code",
   "execution_count": 16,
   "metadata": {},
   "outputs": [
    {
     "name": "stdout",
     "output_type": "stream",
     "text": [
      "Done.\n"
     ]
    },
    {
     "data": {
      "text/html": [
       "<table>\n",
       "    <tr>\n",
       "        <th>backers</th>\n",
       "        <th>country</th>\n",
       "    </tr>\n",
       "    <tr>\n",
       "        <td>1295509</td>\n",
       "        <td>US</td>\n",
       "    </tr>\n",
       "    <tr>\n",
       "        <td>90729</td>\n",
       "        <td>GB</td>\n",
       "    </tr>\n",
       "    <tr>\n",
       "        <td>29704</td>\n",
       "        <td>AU</td>\n",
       "    </tr>\n",
       "</table>"
      ],
      "text/plain": [
       "[(1295509, 'US'), (90729, 'GB'), (29704, 'AU')]"
      ]
     },
     "execution_count": 16,
     "metadata": {},
     "output_type": "execute_result"
    }
   ],
   "source": [
    "%%sql $con\n",
    "                    /* Top 3 Backed Countries*/\n",
    "SELECT SUM(campaign.backers) AS backers, country.name AS country\n",
    "FROM campaign\n",
    "JOIN country\n",
    "ON campaign.country_id = country.id\n",
    "WHERE outcome = \"successful\"\n",
    "GROUP BY country\n",
    "ORDER BY backers desc\n",
    "LIMIT 3"
   ]
  },
  {
   "cell_type": "markdown",
   "metadata": {},
   "source": [
    "<img src = Images/countries_map.png\\\n",
    "svg.png width = \"1000\" height = \"542\" >\n"
   ]
  },
  {
   "cell_type": "markdown",
   "metadata": {},
   "source": [
    "## Final Recomendations <a class=\"anchor\" id=\"finalrec\"></a>"
   ]
  },
  {
   "cell_type": "markdown",
   "metadata": {},
   "source": [
    "Firstly, based on the Kickstarter data it is recommended to pursue a campaign in the top backed sub/categories due to the advantageous position that they hold. For instance, the Tabletop subcategory is one of the most popular amongst backers on Kickstarter. Moreover, an optimal goal price would be towards the lower end matching the findings done above, where a lower campaign goal is likely more successful. About 47% of successful Tabletop campaigns have a goal price of \\$20K or less, setting a higher goal such as \\$30K only increases the number of successes by around 3% then barely increases as the goal goes higher and higher. This suggests that the analysis done on the \"Trend in Money Raising\" is valid, and a higher campaign goal yields a minimal benefit. Thus, it is highly advised to set a campaign goal of \\$20K. "
   ]
  },
  {
   "cell_type": "code",
   "execution_count": 17,
   "metadata": {},
   "outputs": [
    {
     "name": "stdout",
     "output_type": "stream",
     "text": [
      "Done.\n"
     ]
    },
    {
     "data": {
      "text/html": [
       "<table>\n",
       "    <tr>\n",
       "        <th>tabletop</th>\n",
       "        <th>total_tabletop</th>\n",
       "        <th>ratio</th>\n",
       "    </tr>\n",
       "    <tr>\n",
       "        <td>261</td>\n",
       "        <td>553</td>\n",
       "        <td>47.0</td>\n",
       "    </tr>\n",
       "</table>"
      ],
      "text/plain": [
       "[(261, 553, 47.0)]"
      ]
     },
     "execution_count": 17,
     "metadata": {},
     "output_type": "execute_result"
    }
   ],
   "source": [
    "%%sql $con\n",
    "                \n",
    "                            /* Expected Campaign Goal */\n",
    "/* Use atleast one decimal to tell SQL lite that you want decimals when running arithmetic operations */\n",
    "\n",
    "SELECT\n",
    "\t\tSUM(CASE\n",
    "\t\t\t\tWHEN sub_category_id = 14 AND goal <= 20000 AND outcome = \"successful\"\n",
    "\t\t\t\tTHEN 1 \n",
    "\t\t\t\tELSE 0 END) AS tabletop, \n",
    "\t\tSUM(CASE\n",
    "\t\t\t\tWHEN sub_category_id = 14 \n",
    "\t\t\t\tTHEN 1 \n",
    "\t\t\t\tELSE 0 END) AS total_tabletop,\n",
    "\t\tROUND(\n",
    "            (SUM(CASE\n",
    "\t\t\t\tWHEN sub_category_id = 14 AND goal <= 20000 AND outcome = \"successful\"\n",
    "\t\t\t\tTHEN 1.0    \n",
    "\t\t\t\tELSE 0 END) \n",
    "                / \n",
    "\t\t    SUM(CASE\n",
    "\t\t\t\tWHEN sub_category_id = 14 \n",
    "\t\t\t\tTHEN 1 \n",
    "\t\t\t\tELSE 0 END)) * 100) AS ratio\n",
    "FROM campaign\n"
   ]
  },
  {
   "cell_type": "markdown",
   "metadata": {},
   "source": [
    "Secondly, the average Kickstarter Backer is willing to pledge \\$80 and the expected number of backers to support a Tabletop campaign of \\$20K is 282. Therefore, the total expected money raised of \\$22,560 exceeds the campaign goal of $20K. To conclude, final recommendations for a Tabletop campaign is to set a \\$20K goal with the expectation of surpassing it with the help of around 282 backers."
   ]
  },
  {
   "cell_type": "code",
   "execution_count": 18,
   "metadata": {},
   "outputs": [
    {
     "name": "stdout",
     "output_type": "stream",
     "text": [
      "Done.\n"
     ]
    },
    {
     "data": {
      "text/html": [
       "<table>\n",
       "    <tr>\n",
       "        <th>expected_backers</th>\n",
       "        <th>amount_per_backer</th>\n",
       "        <th>expected_money_raised</th>\n",
       "    </tr>\n",
       "    <tr>\n",
       "        <td>282.0</td>\n",
       "        <td>80.0</td>\n",
       "        <td>22560.0</td>\n",
       "    </tr>\n",
       "</table>"
      ],
      "text/plain": [
       "[(282.0, 80.0, 22560.0)]"
      ]
     },
     "execution_count": 18,
     "metadata": {},
     "output_type": "execute_result"
    }
   ],
   "source": [
    "%%sql $con\n",
    "                    /* Average Amount a Backer Pledges on Kickstarter */\n",
    "SELECT ROUND(AVG(backers)) AS expected_backers, \n",
    "\n",
    "\t\t(SELECT ROUND(AVG(pledged) / AVG(backers))\n",
    "        FROM campaign) AS amount_per_backer, \n",
    "        \n",
    "        (SELECT (SELECT ROUND(AVG(backers))) * \n",
    "        (SELECT ROUND(AVG(pledged) / AVG(backers))\n",
    "        FROM campaign)) AS expected_money_raised\n",
    "\n",
    "FROM campaign\n",
    "WHERE sub_category_id = 14 AND goal <= 20000"
   ]
  }
 ],
 "metadata": {
  "kernelspec": {
   "display_name": "Python 3.10.8 64-bit (microsoft store)",
   "language": "python",
   "name": "python3"
  },
  "language_info": {
   "codemirror_mode": {
    "name": "ipython",
    "version": 3
   },
   "file_extension": ".py",
   "mimetype": "text/x-python",
   "name": "python",
   "nbconvert_exporter": "python",
   "pygments_lexer": "ipython3",
   "version": "3.10.8"
  },
  "orig_nbformat": 4,
  "vscode": {
   "interpreter": {
    "hash": "573d89580b36f9f7e3d90307aae7afb3afa94dfbf99442bb87c388116be7c3b5"
   }
  }
 },
 "nbformat": 4,
 "nbformat_minor": 2
}
